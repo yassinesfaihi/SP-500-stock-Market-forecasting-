{
 "cells": [
  {
   "cell_type": "markdown",
   "id": "1ac44b43",
   "metadata": {},
   "source": [
    "# ARIMA Time Series Forecasting - The S&P 500 Stock Market "
   ]
  },
  {
   "cell_type": "markdown",
   "id": "57e265a3",
   "metadata": {},
   "source": [
    "### Introduction"
   ]
  },
  {
   "cell_type": "markdown",
   "id": "d58af656",
   "metadata": {},
   "source": [
    "#### Author: \"[  Yassine Sfaihi  ]\""
   ]
  },
  {
   "cell_type": "markdown",
   "id": "a8c1ea28",
   "metadata": {},
   "source": [
    "Time series data is a type of data that is collected over a period of time. \n",
    "\n",
    "It is commonly used in finance, economics, and other fields to analyze patterns and make predictions. In this notebook, we will be using the Autoregressive Integrated Moving Average (ARIMA) model to forecast time series data. ARIMA is a popular method for time series forecasting, and it is widely used in practice. \n",
    "\n",
    "We will go through the entire process, from data visualization and stationarity tests to model building and evaluation. By the end of this notebook, you will have a good understanding of how to use ARIMA for time series forecasting."
   ]
  },
  {
   "cell_type": "markdown",
   "id": "103712dd",
   "metadata": {},
   "source": [
    "# Import the necessary libraries and load the time series data"
   ]
  },
  {
   "cell_type": "markdown",
   "id": "4c84c9df",
   "metadata": {},
   "source": [
    "In this step, we are importing the necessary libraries such as numpy, pandas, matplotlib, and statsmodels. These libraries will be used for data manipulation, visualization, and building the ARIMA model. We also import the mean_squared_error from scikit-learn for model evaluation"
   ]
  },
  {
   "cell_type": "code",
   "execution_count": 1,
   "id": "3453768e",
   "metadata": {},
   "outputs": [],
   "source": [
    "import numpy as np\n",
    "import pandas as pd\n",
    "import matplotlib.pyplot as plt\n",
    "from statsmodels.tsa.stattools import adfuller\n",
    "from statsmodels.graphics.tsaplots import plot_acf, plot_pacf\n",
    "from statsmodels.tsa.arima_model import ARIMA\n",
    "from sklearn.metrics import mean_squared_error\n",
    "\n",
    "# load data\n",
    "df = pd.read_csv('/home/yassine/Downloads/all_stocks_5yr.csv')\n"
   ]
  },
  {
   "cell_type": "markdown",
   "id": "6835f837",
   "metadata": {},
   "source": [
    "# Perform a visual check of the time series to ensure it is stationary"
   ]
  },
  {
   "cell_type": "markdown",
   "id": "46f139ba",
   "metadata": {},
   "source": [
    "In this step, we will use the matplotlib library to plot the time series data. By visually inspecting the plot, we can check if the time series is stationary or not. A stationary time series has a consistent mean and variance over time, and does not show any trend or seasonality. If the plot shows a clear trend or seasonality, then we will need to make the time series stationary before building the ARIMA model."
   ]
  },
  {
   "cell_type": "code",
   "execution_count": 6,
   "id": "10bddf62",
   "metadata": {},
   "outputs": [
    {
     "data": {
      "image/png": "[encoded data removed]",
      "text/plain": [
       "<Figure size 432x288 with 5 Axes>"
      ]
     },
     "metadata": {
      "needs_background": "light"
     },
     "output_type": "display_data"
    }
   ],
   "source": [
    "import matplotlib.pyplot as plt\n",
    "df.plot(subplots=True)\n",
    "plt.show()\n"
   ]
  },
  {
   "cell_type": "markdown",
   "id": "f697ad0f",
   "metadata": {},
   "source": [
    "# Use the Differencing method to make the time series stationary if it is not already\n",
    "\n"
   ]
  },
  {
   "cell_type": "markdown",
   "id": "5f38f358",
   "metadata": {},
   "source": [
    "we use the differencing method to make the time series stationary if it is not already.\n",
    "\n",
    "The first step is to perform the Augmented Dickey-Fuller (ADF) test to formally test for stationarity. The ADF test returns a test statistic and a p-value. If the p-value is less than 0.05, the time series is likely stationary.\n",
    "\n",
    "If it's not stationary the next step is to use the Differencing method to make the time series stationary, we need to subtract the previous value from the current value in the time series. \n",
    "\n",
    "This is done using the shift() function in pandas which shifts the values of the time series by a specified number of steps. We then assign the result to a new variable, timeseries_diff, which is now a stationary time series."
   ]
  },
  {
   "cell_type": "code",
   "execution_count": 11,
   "id": "74d6cc39",
   "metadata": {},
   "outputs": [],
   "source": [
    "df=df.dropna()"
   ]
  },
  {
   "cell_type": "code",
   "execution_count": 12,
   "id": "8903bd60",
   "metadata": {},
   "outputs": [],
   "source": [
    "df=df.sample()"
   ]
  },
  {
   "cell_type": "code",
   "execution_count": 9,
   "id": "64cc0879",
   "metadata": {},
   "outputs": [
    {
     "name": "stdout",
     "output_type": "stream",
     "text": [
      "ADF Statistic: -31.423427908668547\n",
      "p-value: 0.0\n",
      "Time series is likely stationary\n"
     ]
    }
   ],
   "source": [
    "# Import necessary libraries\n",
    "import numpy as np\n",
    "from statsmodels.tsa.stattools import adfuller\n",
    "\n",
    "# Perform the ADF test\n",
    "timeseries = df.iloc[:, 0]\n",
    "result = adfuller(timeseries)\n",
    "\n",
    "\n",
    "# Print the test statistic and p-value\n",
    "print('ADF Statistic:', result[0])\n",
    "print('p-value:', result[1])\n",
    "\n",
    "# If the p-value is less than 0.05, the time series is likely stationary\n",
    "if result[1] < 0.05:\n",
    "    print('Time series is likely stationary')\n",
    "else:\n",
    "    print('Time series is likely non-stationary')\n",
    "    \n",
    "# Use the Differencing method to make the time series stationary if it is not already\n",
    "timeseries_diff = timeseries - timeseries.shift()"
   ]
  },
  {
   "cell_type": "markdown",
   "id": "74f31cf5",
   "metadata": {},
   "source": [
    "# Use the grid search method to find the optimal values of 'p', 'd', and 'q"
   ]
  },
  {
   "cell_type": "markdown",
   "id": "51ae29c4",
   "metadata": {},
   "source": [
    "In this step, we use the grid search method to find the optimal values of 'p', 'd', and 'q' for the ARIMA model. \n",
    "\n",
    "We use the itertools.product() function to generate all possible combinations of p, d, and q values between 0 and 2, both for the non-seasonal and seasonal components. \n",
    "\n",
    "Then, we use a for loop to fit the ARIMA model for each combination of parameters and use the Akaike Information Criterion (AIC) to determine the best set of parameters.\n",
    "\n",
    "The best set of parameters is the one that results in the lowest AIC value.\n",
    "\n"
   ]
  },
  {
   "cell_type": "code",
   "execution_count": null,
   "id": "7d5525d4",
   "metadata": {},
   "outputs": [],
   "source": [
    "from statsmodels.tsa.arima_model import ARIMA\n",
    "import itertools\n",
    "\n",
    "# Define the p, d and q parameters to take any value between 0 and 2\n",
    "p = d = q = range(0, 2)\n",
    "\n",
    "# Generate all different combinations of p, q and q triplets\n",
    "pdq = list(itertools.product(p, d, q))\n",
    "\n",
    "# Generate all different combinations of seasonal p, q and q triplets\n",
    "seasonal_pdq = [(x[0], x[1], x[2], 12) for x in list(itertools.product(p, d, q))]\n",
    "\n",
    "# Perform a grid search to find the optimal set of parameters that yields the best performance\n",
    "best_aic = float(\"inf\")\n",
    "best_pdq = None\n",
    "best_seasonal_pdq = None\n",
    "for param in pdq:\n",
    "    for param_seasonal in seasonal_pdq:\n",
    "        try:\n",
    "            mod = ARIMA(train, order=param, seasonal_order=param_seasonal, enforce_stationarity=False, enforce_invertibility=False)\n",
    "            results = mod.fit()\n",
    "            if results.aic < best_aic:\n",
    "                best_aic = results.aic\n",
    "                best_pdq = param\n",
    "                best_seasonal_pdq = param_seasonal\n",
    "        except:\n",
    "            continue\n",
    "\n",
    "print(\"Best ARIMA(p,d,q)x(P,D,Q,s)12 Model: {} x {} - AIC:{}\".format(best_pdq, best_seasonal_pdq, best_aic))"
   ]
  },
  {
   "cell_type": "markdown",
   "id": "5016a4f0",
   "metadata": {},
   "source": [
    "#  Build the ARIMA model using the optimal values of 'p', 'd', and 'q'"
   ]
  },
  {
   "cell_type": "markdown",
   "id": "1ac74aee",
   "metadata": {},
   "source": [
    "In this step, we will use the optimal values of 'p', 'd', and 'q' that we found in step above to build the ARIMA model. \n",
    "\n",
    "We first import the ARIMA module from the statsmodels library. \n",
    "\n",
    "Then, we create an instance of the ARIMA class, passing in the training data and the order of the model (p, d, q). \n",
    "\n",
    "Next, we fit the model using the fit() method and assign it to a variable 'model_fit' to use it for further steps."
   ]
  },
  {
   "cell_type": "code",
   "execution_count": null,
   "id": "4d4b0e31",
   "metadata": {},
   "outputs": [],
   "source": [
    "from statsmodels.tsa.arima_model import ARIMA\n",
    "\n",
    "# Build the ARIMA model\n",
    "arima_model = ARIMA(train_data, order=(p, d, q))\n",
    "model_fit = arima_model.fit()"
   ]
  },
  {
   "cell_type": "markdown",
   "id": "e6216771",
   "metadata": {},
   "source": [
    "#  Use the model to make predictions on the test data"
   ]
  },
  {
   "cell_type": "markdown",
   "id": "a9e52e56",
   "metadata": {},
   "source": [
    "In this step, we split the time series data into two sets: the training set, which will be used to fit the model, and the test set, which will be used to evaluate the model's performance. We use the fit() function to fit the model on the training data and the predict() function to make predictions on the test data.\n",
    "\n",
    "The n_periods parameter in the predict() function specifies the number of periods to predict. \n",
    "\n",
    "In this case, we want to predict the same number of periods as in the test data."
   ]
  },
  {
   "cell_type": "code",
   "execution_count": null,
   "id": "71680805",
   "metadata": {},
   "outputs": [],
   "source": [
    "# Split the data into train and test sets\n",
    "train_data, test_data = time_series[:int(len(time_series)*0.8)], time_series[int(len(time_series)*0.8):]\n",
    "\n",
    "# Fit the model on the training data\n",
    "model.fit(train_data)\n",
    "\n",
    "# Use the model to make predictions on the test data\n",
    "predictions = model.predict(n_periods=len(test_data))\n"
   ]
  },
  {
   "cell_type": "markdown",
   "id": "6a3ccd9e",
   "metadata": {},
   "source": [
    "#  Plot the predictions against the actual values to evaluate the model's performance"
   ]
  },
  {
   "cell_type": "markdown",
   "id": "26ac0376",
   "metadata": {},
   "source": [
    "In this step, we will plot the actual values of the test data against the predictions made by the ARIMA model. This will allow us to visually evaluate the performance of the model.\n",
    "\n",
    "The plt.plot() function is used to plot the actual and predicted values, and the plt.legend() function is used to add a legend to the plot. The plt.show() function is used to display the plot. \n",
    "\n",
    "This plot will help us to evaluate how well the model is able to predict the time series data, and identify any patterns or discrepancies in the predictions."
   ]
  },
  {
   "cell_type": "code",
   "execution_count": null,
   "id": "ef71d254",
   "metadata": {},
   "outputs": [],
   "source": [
    "import matplotlib.pyplot as plt\n",
    "plt.plot(test_data, label='actual')\n",
    "plt.plot(predictions, label='predictions')\n",
    "plt.legend()\n",
    "plt.show()\n"
   ]
  },
  {
   "cell_type": "markdown",
   "id": "32a437a1",
   "metadata": {},
   "source": [
    "#  Use the root mean squared error (RMSE) to evaluate the model's performance\n",
    "\n"
   ]
  },
  {
   "cell_type": "markdown",
   "id": "63916b67",
   "metadata": {},
   "source": [
    "In this step, we use the root mean squared error (RMSE) to evaluate the performance of the model. RMSE is a commonly used metric to evaluate the performance of time series forecasting models.\n",
    "\n",
    "It is the square root of the mean of the squared differences between the predicted values and the actual values. The smaller the RMSE value, the better the model's performance.\n",
    "\n",
    "In the code above, we first import the mean_squared_error function from the sklearn library. Then, we calculate the RMSE by taking the square root of the mean of the squared differences between the test data and the predictions. Finally, we print the RMSE value."
   ]
  },
  {
   "cell_type": "code",
   "execution_count": null,
   "id": "de0cde9a",
   "metadata": {},
   "outputs": [],
   "source": [
    "from sklearn.metrics import mean_squared_error\n",
    "\n",
    "# calculate RMSE\n",
    "rmse = np.sqrt(mean_squared_error(test_data, predictions))\n",
    "print(rmse)\n"
   ]
  },
  {
   "cell_type": "markdown",
   "id": "0ca37400",
   "metadata": {},
   "source": [
    "#  Use the root mean squared error (RMSE) to evaluate the model's performance"
   ]
  },
  {
   "cell_type": "markdown",
   "id": "a5fba1fd",
   "metadata": {},
   "source": [
    "The root mean squared error (RMSE) is a commonly used metric to evaluate the performance of a time series forecasting model. It calculates the difference between the predicted values and the actual values and takes the square root of the mean of these differences.\n",
    "\n",
    "The smaller the RMSE value, the better the model's performance. In this step, we use the mean_squared_error function from sklearn.metrics to calculate the RMSE of the model. \n",
    "\n",
    "The y_test represents the actual values of the test data and y_pred represents the predicted values from the model."
   ]
  },
  {
   "cell_type": "code",
   "execution_count": null,
   "id": "45e342f8",
   "metadata": {},
   "outputs": [],
   "source": [
    "from sklearn.metrics import mean_squared_error\n",
    "\n",
    "rmse = np.sqrt(mean_squared_error(y_test, y_pred))\n",
    "print(rmse)\n"
   ]
  },
  {
   "cell_type": "markdown",
   "id": "093265db",
   "metadata": {},
   "source": [
    "#  Use the Akaike Information Criterion (AIC) and Bayesian Information Criterion (BIC) to compare different models and select the best one.\n",
    "\n"
   ]
  },
  {
   "cell_type": "code",
   "execution_count": null,
   "id": "44deaeef",
   "metadata": {},
   "outputs": [],
   "source": [
    "# Compare different models using AIC and BIC\n",
    "model_fit.summary()\n",
    "print(\"AIC: \", model_fit.aic)\n",
    "print(\"BIC: \", model_fit.bic)\n"
   ]
  },
  {
   "cell_type": "markdown",
   "id": "0749baf7",
   "metadata": {},
   "source": [
    "AIC and BIC are two commonly used model selection criteria for time series analysis. \n",
    "\n",
    "AIC measures the relative goodness of fit of different models, while BIC measures the relative goodness of fit while penalizing models with more parameters. \n",
    "\n",
    "A lower AIC or BIC value indicates a better model. In this step, we use the summary() method to display a summary of the model fit, including AIC and BIC values. We can then compare these values across different models to select the best one."
   ]
  },
  {
   "cell_type": "markdown",
   "id": "dfc899a7",
   "metadata": {},
   "source": [
    "#  Summary"
   ]
  },
  {
   "cell_type": "markdown",
   "id": "6bab2c68",
   "metadata": {},
   "source": [
    "In this notebook, we used the Autoregressive Integrated Moving Average (ARIMA) model to forecast time series data. \n",
    "We covered the entire process, including data visualization, stationarity tests, parameter tuning, model building, evaluation, and model selection. \n",
    "\n",
    "We also discussed the importance of evaluating the performance of different models using metrics like RMSE and AIC/BIC. This notebook serves as a comprehensive guide for time series forecasting using ARIMA and will be helpful for anyone looking to analyze time series data"
   ]
  }
 ],
 "metadata": {
  "kernelspec": {
   "display_name": "Python 3 (ipykernel)",
   "language": "python",
   "name": "python3"
  },
  "language_info": {
   "codemirror_mode": {
    "name": "ipython",
    "version": 3
   },
   "file_extension": ".py",
   "mimetype": "text/x-python",
   "name": "python",
   "nbconvert_exporter": "python",
   "pygments_lexer": "ipython3",
   "version": "3.9.7"
  }
 },
 "nbformat": 4,
 "nbformat_minor": 5
}
