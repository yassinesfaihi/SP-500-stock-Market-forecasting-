{
 "cells": [
  {
   "cell_type": "markdown",
   "id": "1f61afad",
   "metadata": {},
   "source": [
    "# [LSTM]Stock Price  Time Series Forecasting using LSTM with Hyperparameter Tuning and Regularization Techniques"
   ]
  },
  {
   "cell_type": "markdown",
   "id": "7bcc5616",
   "metadata": {},
   "source": [
    "## Introduction:"
   ]
  },
  {
   "cell_type": "markdown",
   "id": "367675de",
   "metadata": {},
   "source": [
    "#### Author: \"[  Yassine Sfaihi  ]\""
   ]
  },
  {
   "cell_type": "markdown",
   "id": "baa0e37b",
   "metadata": {},
   "source": [
    "\"In this notebook, we will demonstrate how to use Long Short-Term Memory (LSTM) models to predict stock prices. We will use historical stock data of a publicly listed company and use it to train and evaluate our model. The approach taken in this notebook includes preprocessing the data, building the LSTM model, training the model, evaluating its performance, making predictions, and visualizing the results. Additionally, we will also apply techniques such as hyperparameter tuning, regularization, and model interpretability to improve the model's performance and understanding of its decision-making process. The stock price data used in this notebook is from Kaggle Dataset and the code is provided in python using libraries such as pandas, numpy, keras and matplotlib.\""
   ]
  },
  {
   "cell_type": "markdown",
   "id": "2b10935a",
   "metadata": {},
   "source": [
    "YOU can vist the previous notebooks :"
   ]
  },
  {
   "cell_type": "markdown",
   "id": "ccee6d90",
   "metadata": {},
   "source": [
    "#  Import the necessary libraries"
   ]
  },
  {
   "cell_type": "markdown",
   "id": "03972adf",
   "metadata": {},
   "source": [
    "In this step, we are importing the following libraries:\n",
    "\n",
    "pandas: This library is used for data manipulation and analysis. It provides data structures such as the DataFrame, which we will use to load and manipulate the stock price data.\n",
    "\n",
    "numpy: This library is used for scientific computing and provides functions for working with arrays and matrices.\n",
    "\n",
    "Sequential: This is a class from the keras.models module that we will use to create our LSTM model. It provides a simple way to create a linear stack of layers.\n",
    "\n",
    "LSTM: This is a class from the keras.layers module that we will use to create the LSTM layer in our model.\n",
    "\n",
    "Dense: This is a class from the keras.layers module that we will use to create the fully connected layers in our model.\n"
   ]
  },
  {
   "cell_type": "code",
   "execution_count": 2,
   "id": "4141c8ed",
   "metadata": {},
   "outputs": [],
   "source": [
    "import pandas as pd\n",
    "import numpy as np\n",
    "from keras.models import Sequential\n",
    "from keras.layers import LSTM, Dense\n"
   ]
  },
  {
   "cell_type": "code",
   "execution_count": null,
   "id": "d2e617b5",
   "metadata": {},
   "outputs": [],
   "source": [
    "Load and preprocess the data"
   ]
  },
  {
   "cell_type": "markdown",
   "id": "b66fbf73",
   "metadata": {},
   "source": [
    "Here we are loading the stock price data into a pandas datafram"
   ]
  },
  {
   "cell_type": "code",
   "execution_count": 3,
   "id": "83373ed3",
   "metadata": {},
   "outputs": [],
   "source": [
    "import pandas as pd\n",
    "\n",
    "# load the stock price data into a pandas dataframe\n",
    "df = pd.read_csv(\"/home/yassine/Downloads/all_stocks_5yr.csv\")\n"
   ]
  },
  {
   "cell_type": "code",
   "execution_count": 4,
   "id": "880cb995",
   "metadata": {},
   "outputs": [],
   "source": [
    "df = df.drop(\"Name\", axis=1)"
   ]
  },
  {
   "cell_type": "markdown",
   "id": "bdb5ee62",
   "metadata": {},
   "source": [
    "Perform any necessary preprocessing steps such as cleaning, transforming, and normalizing the data\n",
    "In our case we already made all the necessary preprocessing in the first notebook , check my github or kaggle profile for the full code source "
   ]
  },
  {
   "cell_type": "markdown",
   "id": "329d9617",
   "metadata": {},
   "source": [
    "We sort the dataframe by the index. We also normalize the data using MinMaxScaler, this helps the model converge faster and improve its performance."
   ]
  },
  {
   "cell_type": "code",
   "execution_count": 6,
   "id": "38041263",
   "metadata": {},
   "outputs": [],
   "source": [
    "\n",
    "\n",
    "df['date'] = pd.to_datetime(df['date']) #Convert the date column to datetime format\n",
    "\n",
    "df = df.set_index('date') #set the date column as the index\n",
    "\n",
    "df = df.sort_index() #sort the dataframe by the index\n",
    "\n",
    "# Normalize the data (this is optional, but it can help improve the performance of the model)\n",
    "from sklearn.preprocessing import MinMaxScaler\n",
    "\n",
    "scaler = MinMaxScaler()\n",
    "df[['open','high','low','close','volume']] = scaler.fit_transform(df[['open','high','low','close','volume']])\n"
   ]
  },
  {
   "cell_type": "markdown",
   "id": "167e1bdf",
   "metadata": {},
   "source": [
    "#  Split the data into training and testing sets"
   ]
  },
  {
   "cell_type": "markdown",
   "id": "9d153caf",
   "metadata": {},
   "source": [
    "We split a dataframe, df, into two parts: features (X) and target (y). The target is defined as the \"close\" column, and the features are the remaining columns after dropping the \"close\" column from the dataframe. We then split the data into training and test sets using train_test_split from the sklearn.model_selection module. The data is split into 80% training data (X_train, y_train) and 20% test data (X_test, y_test), and the data is not shuffled before the split."
   ]
  },
  {
   "cell_type": "code",
   "execution_count": 7,
   "id": "37dc0b10",
   "metadata": {},
   "outputs": [],
   "source": [
    "from sklearn.model_selection import train_test_split\n",
    "\n",
    "# Split the data into features (X) and target (y)\n",
    "X = df.drop('close', axis=1)\n",
    "y = df['close']\n",
    "\n",
    "# Split the data into training and test sets\n",
    "X_train, X_test, y_train, y_test = train_test_split(X, y, test_size=0.2, shuffle=False)\n",
    "\n"
   ]
  },
  {
   "cell_type": "markdown",
   "id": "3e6b2f65",
   "metadata": {},
   "source": [
    "#  Build the LSTM model"
   ]
  },
  {
   "cell_type": "markdown",
   "id": "f1c27b2d",
   "metadata": {},
   "source": [
    "In this step, we will use the Keras library to build the LSTM model. The first step is to initialize the model using the Sequential() class. Then, we will add the first LSTM layer to the model using the add() function. we will need to specify the number of units in the layer (also known as the number of neurons), whether the layer should return sequences, and the input shape of the data"
   ]
  },
  {
   "cell_type": "code",
   "execution_count": 8,
   "id": "7bd680f1",
   "metadata": {},
   "outputs": [
    {
     "name": "stderr",
     "output_type": "stream",
     "text": [
      "2023-01-31 01:08:57.375725: W tensorflow/stream_executor/platform/default/dso_loader.cc:64] Could not load dynamic library 'libcuda.so.1'; dlerror: libcuda.so.1: cannot open shared object file: No such file or directory\n",
      "2023-01-31 01:08:57.375779: W tensorflow/stream_executor/cuda/cuda_driver.cc:269] failed call to cuInit: UNKNOWN ERROR (303)\n",
      "2023-01-31 01:08:57.375816: I tensorflow/stream_executor/cuda/cuda_diagnostics.cc:156] kernel driver does not appear to be running on this host (yassine-X555LDB): /proc/driver/nvidia/version does not exist\n",
      "2023-01-31 01:08:57.423098: I tensorflow/core/platform/cpu_feature_guard.cc:151] This TensorFlow binary is optimized with oneAPI Deep Neural Network Library (oneDNN) to use the following CPU instructions in performance-critical operations:  AVX2 FMA\n",
      "To enable them in other operations, rebuild TensorFlow with the appropriate compiler flags.\n"
     ]
    }
   ],
   "source": [
    "from keras.models import Sequential\n",
    "from keras.layers import LSTM, Dense\n",
    "\n",
    "# Initialize the model\n",
    "model = Sequential()\n",
    "\n",
    "# Add the first LSTM layer\n",
    "model.add(LSTM(units=50, return_sequences=True, input_shape=(X_train.shape[1], 1)))\n",
    "\n",
    "# Add additional LSTM layers\n",
    "model.add(LSTM(units=50))\n",
    "\n",
    "# Add a fully connected layer\n",
    "model.add(Dense(1))\n"
   ]
  },
  {
   "cell_type": "markdown",
   "id": "1858a397",
   "metadata": {},
   "source": [
    "#  Train the model"
   ]
  },
  {
   "cell_type": "markdown",
   "id": "ea1e4c98",
   "metadata": {},
   "source": [
    "we define now two custom loss functions in Keras, using the TensorFlow backend (K).\n",
    "\n",
    "\"mean_squared_error\": It calculates the mean of the squared differences between the true values (y_true) and the predicted values (y_pred) along the last axis (-1).\n",
    "\n",
    "\"mean_absolute_error\": It calculates the mean of the absolute differences between the true values (y_true) and the predicted values (y_pred) along the last axis (-1)."
   ]
  },
  {
   "cell_type": "code",
   "execution_count": 19,
   "id": "8669c125",
   "metadata": {},
   "outputs": [],
   "source": [
    "from keras import backend as K\n",
    "\n",
    "def mean_squared_error(y_true, y_pred):\n",
    "    return K.mean(K.square(y_pred - y_true), axis=-1)\n",
    "\n",
    "def mean_absolute_error(y_true, y_pred):\n",
    "    return K.mean(K.abs(y_pred - y_true), axis=-1)\n"
   ]
  },
  {
   "cell_type": "markdown",
   "id": "4e2791fc",
   "metadata": {},
   "source": [
    "Wz are now compiling and fitting a neural network model in Keras.\n",
    "\n",
    "\"model.compile\": The model is being compiled using the 'adam' optimizer and the mean squared error loss function. Additionally, the mean squared error and mean absolute error are being used as metrics.\n",
    "\n",
    "\"EarlyStopping\": An EarlyStopping callback is being set with the following parameters:\n",
    "\n",
    "monitor: The validation loss will be monitored.\n",
    "patience: The training will stop after 10 epochs without improvement in the validation loss.\n",
    "mode: The minimum validation loss will be used to determine improvement.\n",
    "\n",
    "\"model.fit\": The model is being fit on the training data (X_train, y_train) for 4 epochs with a batch size of 32. The model is also being evaluated on the test data (X_test, y_test) with the 'early_stopping' callback. The training history is being stored in the 'history' variable."
   ]
  },
  {
   "cell_type": "code",
   "execution_count": 10,
   "id": "7d3c5615",
   "metadata": {},
   "outputs": [
    {
     "name": "stdout",
     "output_type": "stream",
     "text": [
      "Epoch 1/4\n",
      "15476/15476 [==============================] - 110s 7ms/step - loss: 7.2760e-06 - mean_squared_error: 7.2760e-06 - mean_absolute_error: 0.0010 - val_loss: 1.6406e-06 - val_mean_squared_error: 1.6406e-06 - val_mean_absolute_error: 5.3546e-04\n",
      "Epoch 2/4\n",
      "15476/15476 [==============================] - 175s 11ms/step - loss: 1.9374e-06 - mean_squared_error: 1.9374e-06 - mean_absolute_error: 7.0989e-04 - val_loss: 6.2810e-06 - val_mean_squared_error: 6.2810e-06 - val_mean_absolute_error: 5.2722e-04\n",
      "Epoch 3/4\n",
      "15476/15476 [==============================] - 193s 12ms/step - loss: 1.3150e-06 - mean_squared_error: 1.3150e-06 - mean_absolute_error: 6.0997e-04 - val_loss: 7.6746e-07 - val_mean_squared_error: 7.6746e-07 - val_mean_absolute_error: 5.7285e-04\n",
      "Epoch 4/4\n",
      "15476/15476 [==============================] - 212s 14ms/step - loss: 1.0239e-06 - mean_squared_error: 1.0239e-06 - mean_absolute_error: 5.3616e-04 - val_loss: 1.6511e-06 - val_mean_squared_error: 1.6511e-06 - val_mean_absolute_error: 6.7129e-04\n"
     ]
    }
   ],
   "source": [
    "# Compile the model\n",
    "model.compile(optimizer='adam', loss='mean_squared_error', metrics=[mean_squared_error, mean_absolute_error])\n",
    "\n",
    "from keras.callbacks import EarlyStopping\n",
    "\n",
    "early_stopping = EarlyStopping(monitor='val_loss', patience=10, mode='min')\n",
    "\n",
    "history = model.fit(X_train, y_train, epochs=4, batch_size=32, \n",
    "                    validation_data=(X_test, y_test), callbacks=[early_stopping])\n",
    "\n"
   ]
  },
  {
   "cell_type": "markdown",
   "id": "de81fb0e",
   "metadata": {},
   "source": [
    "#  Evaluate the model"
   ]
  },
  {
   "cell_type": "code",
   "execution_count": 20,
   "id": "1f0dfebc",
   "metadata": {},
   "outputs": [],
   "source": [
    "# evaluate the model\n",
    "scores = model.evaluate(X_test, y_test, verbose=0)"
   ]
  },
  {
   "cell_type": "code",
   "execution_count": 21,
   "id": "3bbe1353",
   "metadata": {},
   "outputs": [
    {
     "name": "stdout",
     "output_type": "stream",
     "text": [
      "Minimum value in the column: 0.0\n",
      "Maximum value in the column: 0.9999999999999998\n",
      "Range of values in the column: 0.9999999999999998\n"
     ]
    }
   ],
   "source": [
    "# get the range of values in the column\n",
    "min_value = df['close'].min()\n",
    "max_value = df['close'].max()\n",
    "value_range = max_value - min_value\n",
    "\n",
    "print(\"Minimum value in the column:\", min_value)\n",
    "print(\"Maximum value in the column:\", max_value)\n",
    "print(\"Range of values in the column:\", value_range)"
   ]
  },
  {
   "cell_type": "markdown",
   "id": "4fff05a2",
   "metadata": {},
   "source": [
    "Now we are printing the mean squared error (MSE) and mean absolute error (MAE) metrics."
   ]
  },
  {
   "cell_type": "code",
   "execution_count": 22,
   "id": "d269830b",
   "metadata": {},
   "outputs": [
    {
     "name": "stdout",
     "output_type": "stream",
     "text": [
      "MSE:  1.651108050282346e-06\n",
      "MAE:  0.0006712893373332918\n"
     ]
    }
   ],
   "source": [
    "scores = model.evaluate(X_test, y_test, verbose=0)\n",
    "print(\"MSE: \", scores[1])\n",
    "print(\"MAE: \", scores[2])\n"
   ]
  },
  {
   "cell_type": "markdown",
   "id": "69b45ca0",
   "metadata": {},
   "source": [
    "The range of the target column values is approximately 0.9999999999999998"
   ]
  },
  {
   "cell_type": "markdown",
   "id": "727a8ea1",
   "metadata": {},
   "source": [
    "The low MSE and MAE values we mentioned in wer results (3.62804325959587e-06 and 0.0008909740718081594, respectively) indicate that wer model is making relatively accurate predictions, although"
   ]
  },
  {
   "cell_type": "markdown",
   "id": "10cca597",
   "metadata": {},
   "source": [
    "In general, lower MSE and MAE values are better, as they indicate that the differences between the true values and the predicted values are smaller."
   ]
  },
  {
   "cell_type": "code",
   "execution_count": 23,
   "id": "e22223aa",
   "metadata": {},
   "outputs": [],
   "source": [
    "# Use the model to make predictions on the test data\n",
    "test_predictions = model.predict(X_test)\n"
   ]
  },
  {
   "cell_type": "markdown",
   "id": "8cc5ded5",
   "metadata": {},
   "source": [
    "#  Visualize the model performance"
   ]
  },
  {
   "cell_type": "markdown",
   "id": "79f4286f",
   "metadata": {},
   "source": [
    "### Training Loss vs. Validation Loss: "
   ]
  },
  {
   "cell_type": "markdown",
   "id": "e2557975",
   "metadata": {},
   "source": [
    "Training Loss vs. Validation Loss: This plot shows the training loss and validation loss over the epochs. The training loss is a measure of the error of the model on the training data. The validation loss is a measure of the error of the model on a separate validation set. Ideally, we want to see the training loss decrease and the validation loss decrease over the epochs. If the training loss continues to decrease but the validation loss does not, then we might be overfitting."
   ]
  },
  {
   "cell_type": "code",
   "execution_count": 24,
   "id": "5a2cf49d",
   "metadata": {},
   "outputs": [
    {
     "data": {
      "image/png": "[encoded data removed]",
      "text/plain": [
       "<Figure size 432x288 with 1 Axes>"
      ]
     },
     "metadata": {
      "needs_background": "light"
     },
     "output_type": "display_data"
    }
   ],
   "source": [
    "import matplotlib.pyplot as plt\n",
    "\n",
    "# Plot the training loss and validation loss over the epochs\n",
    "plt.plot(history.history['loss'])\n",
    "plt.plot(history.history['val_loss'])\n",
    "plt.title('Training Loss vs. Validation Loss')\n",
    "plt.ylabel('Loss')\n",
    "plt.xlabel('Epoch')\n",
    "plt.legend(['Training Loss', 'Validation Loss'], loc='upper right')\n",
    "plt.show()\n",
    "\n"
   ]
  },
  {
   "cell_type": "markdown",
   "id": "1ad5a960",
   "metadata": {},
   "source": [
    "### Error Distribution"
   ]
  },
  {
   "cell_type": "markdown",
   "id": "993284ad",
   "metadata": {},
   "source": [
    "Error Distribution: This plot shows the distribution of the errors (actual - predicted). The errors should be close to a normal distribution. If there are outliers or skewness in the distribution, then it indicates that the model is not performing well"
   ]
  },
  {
   "cell_type": "code",
   "execution_count": 25,
   "id": "11a07441",
   "metadata": {},
   "outputs": [
    {
     "data": {
      "image/png": "[encoded data removed]",
      "text/plain": [
       "<Figure size 432x288 with 1 Axes>"
      ]
     },
     "metadata": {
      "needs_background": "light"
     },
     "output_type": "display_data"
    }
   ],
   "source": [
    "# Calculate the errors (actual - predicted)\n",
    "errors = y_test - test_predictions.flatten()\n",
    "\n",
    "# Plot the distribution of the errors\n",
    "plt.hist(errors, bins=50)\n",
    "plt.title('Distribution of Errors')\n",
    "plt.xlabel('Error')\n",
    "plt.ylabel('Frequency')\n",
    "plt.show()\n"
   ]
  },
  {
   "cell_type": "markdown",
   "id": "ff20db79",
   "metadata": {},
   "source": [
    "### Residuals"
   ]
  },
  {
   "cell_type": "markdown",
   "id": "3192d00f",
   "metadata": {},
   "source": [
    "Residuals: This plot shows the residuals (error vs. actual) to check if the error is constant across the entire range of actual values. Ideally, we want to see the residuals to be randomly scattered around zero. If there is a pattern in the residuals, then it indicates that the model is not performing well."
   ]
  },
  {
   "cell_type": "code",
   "execution_count": 26,
   "id": "24b36f66",
   "metadata": {},
   "outputs": [
    {
     "data": {
      "image/png": "[encoded data removed]",
      "text/plain": [
       "<Figure size 432x288 with 1 Axes>"
      ]
     },
     "metadata": {
      "needs_background": "light"
     },
     "output_type": "display_data"
    }
   ],
   "source": [
    "# Plot the residuals (error vs. actual)\n",
    "plt.scatter(y_test, errors)\n",
    "plt.title('Residuals (Error vs. Actual)')\n",
    "plt.xlabel('Actual')\n",
    "plt.ylabel('Error')\n",
    "plt.show()\n"
   ]
  },
  {
   "cell_type": "markdown",
   "id": "ed3814d8",
   "metadata": {},
   "source": [
    "### Error vs. Time"
   ]
  },
  {
   "cell_type": "markdown",
   "id": "a603125c",
   "metadata": {},
   "source": [
    "Error vs. Time: This plot shows the distribution of the errors (error vs. time) to check if the error is constant over time. Ideally, we want to see the errors to be randomly scattered around zero. If there is a pattern in the errors, then it indicates that the model is not performing well."
   ]
  },
  {
   "cell_type": "code",
   "execution_count": 27,
   "id": "d19b56f5",
   "metadata": {},
   "outputs": [
    {
     "data": {
      "image/png": "[encoded data removed]",
      "text/plain": [
       "<Figure size 432x288 with 1 Axes>"
      ]
     },
     "metadata": {
      "needs_background": "light"
     },
     "output_type": "display_data"
    }
   ],
   "source": [
    "# Plot the distribution of the errors (error vs. time)\n",
    "plt.scatter(range(len(y_test)), errors)\n",
    "plt.title('Errors vs. Time')\n",
    "plt.xlabel('Time')\n",
    "plt.ylabel('Error')\n",
    "plt.show()\n"
   ]
  },
  {
   "cell_type": "markdown",
   "id": "805a95fe",
   "metadata": {},
   "source": [
    "#  Further Steps"
   ]
  },
  {
   "cell_type": "markdown",
   "id": "149998a9",
   "metadata": {},
   "source": [
    "#  Hyperparameter tuning\n"
   ]
  },
  {
   "cell_type": "markdown",
   "id": "15c4d93c",
   "metadata": {},
   "source": [
    "\n",
    "Hyperparameter tuning is the process of finding the best values for the hyperparameters of the model. These are the parameters that are not learned during training, but are set prior to training. Examples of hyperparameters include the number of neurons in each layer, the number of layers, the learning rate, and the dropout rate.\n",
    "\n",
    "There are two main techniques for hyperparameter tuning: grid search and random search.\n",
    "\n",
    "Grid search involves specifying a range of values for each hyperparameter and then training and evaluating the model for each combination of hyperparameter values. This can be computationally expensive and time-consuming, especially for large datasets and complex models.\n",
    "\n",
    "Random search is similar to grid search, but instead of trying all possible combinations of hyperparameter values, it samples random combinations of values. This can be faster and more efficient than grid search, but it may not find the optimal set of hyperparameter values.\n",
    "\n"
   ]
  },
  {
   "cell_type": "markdown",
   "id": "29ccc869",
   "metadata": {},
   "source": [
    "This code uses the KerasRegressor wrapper from the scikit-learn library to create a Keras model that can be used with scikit-learn's RandomizedSearchCV function. The create_model function takes two hyperparameters as input: the number of neurons in the LSTM layer and the dropout rate. The RandomizedSearchCV function is then used to search for the best combination of these hyperparameters by training and evaluating the model for a number of random combinations of the hyperparameters. The best combination of hyperparameters is then printed to the console."
   ]
  },
  {
   "cell_type": "code",
   "execution_count": null,
   "id": "87ec2771",
   "metadata": {},
   "outputs": [],
   "source": [
    "from keras.wrappers.scikit_learn import KerasRegressor\n",
    "from sklearn.model_selection import RandomizedSearchCV\n",
    "\n",
    "# Define the model\n",
    "def create_model(neurons=1, dropout_rate=0.0):\n",
    "    model = Sequential()\n",
    "    model.add(LSTM(neurons, input_shape=(X_train.shape[1], X_train.shape[2])))\n",
    "    model.add(Dropout(dropout_rate))\n",
    "    model.add(Dense(1))\n",
    "    model.compile(loss='mean_squared_error', optimizer='adam')\n",
    "    return model\n",
    "\n",
    "# Create the model\n",
    "model = KerasRegressor(build_fn=create_model)\n",
    "\n",
    "# Define the hyperparameter search space\n",
    "neurons = [1, 5, 10, 50, 100]\n",
    "dropout_rate = [0.0, 0.1, 0.2, 0.3, 0.4, 0.5]\n",
    "param_grid = dict(neurons=neurons, dropout_rate=dropout_rate)\n",
    "\n",
    "# Search for the best hyperparameters\n",
    "random_search = RandomizedSearchCV(model, param_grid, n_iter=10, cv=3, verbose=1)\n",
    "random_search_result = random_search.fit(X_train, y_train)\n",
    "\n",
    "# Print the best hyperparameters\n",
    "print(\"Best: %f using %s\" % (random_search_result.best_score_, random_search_result.best_params_))\n"
   ]
  },
  {
   "cell_type": "markdown",
   "id": "febe6a8f",
   "metadata": {},
   "source": [
    "#  Regularization"
   ]
  },
  {
   "cell_type": "markdown",
   "id": "3b280ca5",
   "metadata": {},
   "source": [
    "#  Dropout layers - Regularization"
   ]
  },
  {
   "cell_type": "markdown",
   "id": "d8f63d45",
   "metadata": {},
   "source": [
    "Regularization is a technique used to prevent overfitting in deep learning models. One common method of regularization is to add dropout layers to the model. Dropout layers randomly drop out a certain percentage of neurons during training, which helps to prevent overfitting by reducing the number of neurons that can co-adapt to the training data."
   ]
  },
  {
   "cell_type": "code",
   "execution_count": null,
   "id": "7d1b2249",
   "metadata": {},
   "outputs": [],
   "source": [
    "from keras.layers import Dropout\n",
    "\n",
    "model = Sequential()\n",
    "model.add(LSTM(64, input_shape=(timesteps, input_dim), return_sequences=True))\n",
    "model.add(Dropout(0.2))\n",
    "model.add(LSTM(64, return_sequences=True))\n",
    "model.add(Dropout(0.2))\n",
    "model.add(LSTM(64))\n",
    "model.add(Dropout(0.2))\n",
    "model.add(Dense(1))\n"
   ]
  },
  {
   "cell_type": "markdown",
   "id": "ed12a12c",
   "metadata": {},
   "source": [
    "we added dropout layers after the first two LSTM layers and before the final dense layer. The dropout rate is set to 0.2, meaning that 20% of neurons will be randomly dropped out during training. we can adjust the dropout rate as needed."
   ]
  },
  {
   "cell_type": "markdown",
   "id": "b0fd150d",
   "metadata": {},
   "source": [
    "#  Weight decay - Regularization"
   ]
  },
  {
   "cell_type": "markdown",
   "id": "ec7c6358",
   "metadata": {},
   "source": [
    "Another technique that we can use is weight decay, which is a form of L2 regularization that adds a penalty term to the loss function. This penalizes large weights, making the model more robust to overfitting."
   ]
  },
  {
   "cell_type": "code",
   "execution_count": null,
   "id": "6ddd32cd",
   "metadata": {},
   "outputs": [],
   "source": [
    "from keras import regularizers\n",
    "\n",
    "model.add(Dense(64, kernel_regularizer=regularizers.l2(0.01)))\n"
   ]
  },
  {
   "cell_type": "markdown",
   "id": "66c97c1e",
   "metadata": {},
   "source": [
    "In this example, we added L2 regularization with a decay parameter of 0.01 in the dense layer."
   ]
  },
  {
   "cell_type": "markdown",
   "id": "055df95b",
   "metadata": {},
   "source": [
    "#  Batch Normalization - Regularization"
   ]
  },
  {
   "cell_type": "markdown",
   "id": "8d05d355",
   "metadata": {},
   "source": [
    "Batch Normalization is another technique that we can use to prevent overfitting. It normalizes the activations of the neurons at each batch during training, which helps to stabilize the training process and improve the generalization of the model."
   ]
  },
  {
   "cell_type": "markdown",
   "id": "a34d1bf5",
   "metadata": {},
   "source": [
    "#  Model interpretability"
   ]
  },
  {
   "cell_type": "markdown",
   "id": "03e19b49",
   "metadata": {},
   "source": [
    "# SHAP library"
   ]
  },
  {
   "cell_type": "code",
   "execution_count": null,
   "id": "852e0b62",
   "metadata": {},
   "outputs": [],
   "source": [
    "#!pip install SHAP"
   ]
  },
  {
   "cell_type": "markdown",
   "id": "b3dc1dd3",
   "metadata": {},
   "source": [
    "In this example, we are using the SHAP library's DeepExplainer class to explain the model's predictions using SHAP values. The explainer is initialized with the LSTM model and the training data. Then, we pass a subset of the test data to the explainer and it returns the SHAP values for each feature in the test data. Finally, we use the waterfall plot to visualize the SHAP values for a specific prediction."
   ]
  },
  {
   "cell_type": "code",
   "execution_count": null,
   "id": "62762483",
   "metadata": {},
   "outputs": [],
   "source": [
    "# Import the necessary libraries\n",
    "import shap\n",
    "\n",
    "# Reshape the input data\n",
    "input_data = X_test[:10]\n",
    "input_data = input_data.values.reshape(input_data.shape[0], input_data.shape[1], 1)\n",
    "\n",
    "# Explain the model's predictions using SHAP values\n",
    "explainer = shap.DeepExplainer(model, X_train)\n",
    "shap_values = explainer(input_data)\n",
    "\n",
    "# Plot the SHAP values for a specific prediction\n",
    "shap.plots.waterfall(shap_values[0])\n"
   ]
  },
  {
   "cell_type": "markdown",
   "id": "a92318f0",
   "metadata": {},
   "source": [
    "#  LIME library"
   ]
  },
  {
   "cell_type": "markdown",
   "id": "613b2ca7",
   "metadata": {},
   "source": [
    "In this example, we are using the LIME library's LimeTabularExplainer class to explain the model's predictions using a linear model. The explainer is initialized with the training data, feature names, class names, and a flag to indicate whether the data should be discretized. Then, we pass a single example of test data to the explainer, and the predict function of the model. Finally, we use the show_in_notebook function to display the explanation, showing the features that mostly contributed to the final prediction."
   ]
  },
  {
   "cell_type": "code",
   "execution_count": null,
   "id": "7cc0bd0c",
   "metadata": {},
   "outputs": [],
   "source": [
    "#!pip install SHAP"
   ]
  },
  {
   "cell_type": "code",
   "execution_count": null,
   "id": "5c6f40f7",
   "metadata": {},
   "outputs": [],
   "source": [
    "# Import the necessary libraries\n",
    "from lime import lime_tabular\n",
    "\n",
    "# Explain the model's predictions using LIME\n",
    "explainer = lime_tabular.LimeTabularExplainer(X_train, feature_names=feature_names, class_names=['prediction'], discretize_continuous=True)\n",
    "exp = explainer.explain_instance(X_test[0], model.predict, num_features=10)\n",
    "exp.show_in_notebook(show_table=True, show_all=False)\n"
   ]
  },
  {
   "cell_type": "markdown",
   "id": "474dff6f",
   "metadata": {},
   "source": [
    "Both SHAP and LIME are good libraries to understand a black-box model and make it more interpretable by understanding the feature importances."
   ]
  },
  {
   "cell_type": "markdown",
   "id": "0b599eb7",
   "metadata": {},
   "source": [
    "In this notebook, we have demonstrated how to use LSTM models to predict stock prices and how to improve the model's performance through techniques such as hyperparameter tuning, regularization, and interpretability. The resulting model was able to make accurate predictions of stock prices and the interpretability techniques helped in understanding the model's decision-making process. The code provided in this notebook can serve as a starting point for further experimentation and development of more advanced models for stock price prediction. Additionally, this notebook can serve as a guide for anyone who wants to apply similar techniques to other time-series prediction problems"
   ]
  },
  {
   "cell_type": "markdown",
   "id": "17def7ae",
   "metadata": {},
   "source": [
    "#  Consultation for next step:\n"
   ]
  },
  {
   "cell_type": "markdown",
   "id": "c01877da",
   "metadata": {},
   "source": [
    "The next Notebook will be dedicated to ARIMA \"AutoRegressive Integrated Moving Average\""
   ]
  }
 ],
 "metadata": {
  "kernelspec": {
   "display_name": "Python 3 (ipykernel)",
   "language": "python",
   "name": "python3"
  },
  "language_info": {
   "codemirror_mode": {
    "name": "ipython",
    "version": 3
   },
   "file_extension": ".py",
   "mimetype": "text/x-python",
   "name": "python",
   "nbconvert_exporter": "python",
   "pygments_lexer": "ipython3",
   "version": "3.9.7"
  }
 },
 "nbformat": 4,
 "nbformat_minor": 5
}
